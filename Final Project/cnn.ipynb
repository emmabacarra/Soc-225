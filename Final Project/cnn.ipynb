{
 "cells": [
  {
   "cell_type": "code",
   "execution_count": null,
   "metadata": {},
   "outputs": [],
   "source": [
    "import os\n",
    "import sys\n",
    "os.getcwd()"
   ]
  },
  {
   "cell_type": "code",
   "execution_count": null,
   "metadata": {},
   "outputs": [],
   "source": [
    "# importing libraries & making torch.device object for GPU\n",
    "\n",
    "# neural network packages\n",
    "import torch\n",
    "import torch.nn as nn\n",
    "from torch.nn import Transformer\n",
    "from torch import Tensor\n",
    "from torch.utils.data import DataLoader\n",
    "\n",
    "# data packages\n",
    "import numpy as np\n",
    "import math\n",
    "import pandas as pd\n",
    "import sklearn.preprocessing as prep\n",
    "from sklearn.model_selection import train_test_split\n",
    "from sklearn.utils import shuffle\n",
    "from sklearn.metrics import confusion_matrix\n",
    "import random\n",
    "from concurrent.futures import ThreadPoolExecutor\n",
    "from sklearn.preprocessing import StandardScaler\n",
    "\n",
    "# visual packages\n",
    "import matplotlib.pyplot as plt\n",
    "%matplotlib inline\n",
    "import seaborn as sns\n",
    "import tqdm.notebook as tq\n",
    "from tqdm.notebook import trange\n",
    "import warnings\n",
    "\n",
    "# Create a torch.device object to tell pytorch where to store your tensors: cpu or gpu\n",
    "DEVICE = torch.device('cuda' if torch.cuda.is_available() else 'cpu')"
   ]
  },
  {
   "cell_type": "code",
   "execution_count": null,
   "metadata": {},
   "outputs": [],
   "source": [
    "class CNNModel(torch.nn.Module):\n",
    "    \n",
    "    def __init__(self):\n",
    "        \n",
    "        super(CNNModel, self).__init__()\n",
    "        \n",
    "        # 2 Convolutional Layers\n",
    "        self.cnn1 = torch.nn.Conv2d(in_channels=1, out_channels=16, \n",
    "                              kernel_size=5, stride=1, padding=2)\n",
    "        self.cnn2 = torch.nn.Conv2d(in_channels=16, out_channels=32, \n",
    "                              kernel_size=5, stride=1, padding=2)\n",
    "        \n",
    "        # 2 Fully Connected Layers\n",
    "        self.fc1 = torch.nn.Linear(7*7*32, 10)\n",
    "        self.fc2 = torch.nn.Linear(10, 10) # output dimensions should match initial input dimensions\n",
    "    \n",
    "    def forward(self, x):\n",
    "        \n",
    "        # First Convolution Layer with Max Pooling\n",
    "        x = torch.nn.functional.relu(self.cnn1(x))\n",
    "        x = torch.nn.functional.max_pool2d(x, kernel_size=2) # kernel size --> downsizing from 28 to 14\n",
    "\n",
    "        # Second Convolution Layer with Max Pooling\n",
    "        x = torch.nn.functional.relu(self.cnn2(x))\n",
    "        x = torch.nn.functional.max_pool2d(x, kernel_size=2) # kernel size --> downsizing from 14 to 7\n",
    "\n",
    "        # Flatten the output for the Fully Connected Layers\n",
    "        x = x.view(x.size(0), -1)\n",
    "        \n",
    "        # First Fully Connected Layer with Dropout\n",
    "        #x = torch.nn.functional.relu(self.fc1(x))\n",
    "        #x = torch.nn.functional.dropout(x, p=0.5)\n",
    "        out = self.fc1(x)\n",
    "\n",
    "        # Second Fully Connected Layer\n",
    "       # out = self.fc2(x)\n",
    "\n",
    "        return out"
   ]
  }
 ],
 "metadata": {
  "kernelspec": {
   "display_name": "Phys417",
   "language": "python",
   "name": "python3"
  },
  "language_info": {
   "name": "python",
   "version": "3.11.9"
  }
 },
 "nbformat": 4,
 "nbformat_minor": 2
}
